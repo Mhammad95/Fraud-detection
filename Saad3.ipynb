{
 "cells": [
  {
   "cell_type": "markdown",
   "metadata": {},
   "source": [
    "# Welcome to Jupyter!"
   ]
  },
  {
   "cell_type": "markdown",
   "metadata": {},
   "source": [
    "This repo contains an introduction to [Jupyter](https://jupyter.org) and [IPython](https://ipython.org).\n",
    "\n",
    "Outline of some basics:\n",
    "\n",
    "* [Notebook Basics](../examples/Notebook/Notebook%20Basics.ipynb)\n",
    "* [IPython - beyond plain python](../examples/IPython%20Kernel/Beyond%20Plain%20Python.ipynb)\n",
    "* [Markdown Cells](../examples/Notebook/Working%20With%20Markdown%20Cells.ipynb)\n",
    "* [Rich Display System](../examples/IPython%20Kernel/Rich%20Output.ipynb)\n",
    "* [Custom Display logic](../examples/IPython%20Kernel/Custom%20Display%20Logic.ipynb)\n",
    "* [Running a Secure Public Notebook Server](../examples/Notebook/Running%20the%20Notebook%20Server.ipynb#Securing-the-notebook-server)\n",
    "* [How Jupyter works](../examples/Notebook/Multiple%20Languages%2C%20Frontends.ipynb) to run code in different languages."
   ]
  },
  {
   "cell_type": "markdown",
   "metadata": {},
   "source": [
    "You can also get this tutorial and run it on your laptop:\n",
    "\n",
    "    git clone https://github.com/ipython/ipython-in-depth\n",
    "\n",
    "Install IPython and Jupyter:\n",
    "\n",
    "with [conda](https://www.anaconda.com/download):\n",
    "\n",
    "    conda install ipython jupyter\n",
    "\n",
    "with pip:\n",
    "\n",
    "    # first, always upgrade pip!\n",
    "    pip install --upgrade pip\n",
    "    pip install --upgrade ipython jupyter\n",
    "\n",
    "Start the notebook in the tutorial directory:\n",
    "\n",
    "    cd ipython-in-depth\n",
    "    jupyter notebook"
   ]
  },
  {
   "cell_type": "code",
   "execution_count": 1,
   "metadata": {},
   "outputs": [],
   "source": [
    "#Predictive Analysis\n",
    "#checking and working on how to check fraud and non-fraudlent transactions\n",
    "import numpy as np\n",
    "import pandas as pd\n",
    "import matplotlib.pyplot as plt\n",
    "#installing seaborn for better visualization"
   ]
  },
  {
   "cell_type": "code",
   "execution_count": 4,
   "metadata": {},
   "outputs": [
    {
     "name": "stdout",
     "output_type": "stream",
     "text": [
      "Collecting seaborn\n",
      "\u001b[?25l  Downloading https://files.pythonhosted.org/packages/a8/76/220ba4420459d9c4c9c9587c6ce607bf56c25b3d3d2de62056efe482dadc/seaborn-0.9.0-py3-none-any.whl (208kB)\n",
      "\u001b[K     |████████████████████████████████| 215kB 8.5MB/s eta 0:00:01\n",
      "\u001b[?25hRequirement already satisfied: scipy>=0.14.0 in /srv/conda/envs/notebook/lib/python3.6/site-packages (from seaborn) (1.3.0)\n",
      "Requirement already satisfied: pandas>=0.15.2 in /srv/conda/envs/notebook/lib/python3.6/site-packages (from seaborn) (0.25.0)\n",
      "Requirement already satisfied: numpy>=1.9.3 in /srv/conda/envs/notebook/lib/python3.6/site-packages (from seaborn) (1.17.0)\n",
      "Requirement already satisfied: matplotlib>=1.4.3 in /srv/conda/envs/notebook/lib/python3.6/site-packages (from seaborn) (3.1.1)\n",
      "Requirement already satisfied: python-dateutil>=2.6.1 in /srv/conda/envs/notebook/lib/python3.6/site-packages (from pandas>=0.15.2->seaborn) (2.8.0)\n",
      "Requirement already satisfied: pytz>=2017.2 in /srv/conda/envs/notebook/lib/python3.6/site-packages (from pandas>=0.15.2->seaborn) (2019.2)\n",
      "Requirement already satisfied: cycler>=0.10 in /srv/conda/envs/notebook/lib/python3.6/site-packages (from matplotlib>=1.4.3->seaborn) (0.10.0)\n",
      "Requirement already satisfied: kiwisolver>=1.0.1 in /srv/conda/envs/notebook/lib/python3.6/site-packages (from matplotlib>=1.4.3->seaborn) (1.1.0)\n",
      "Requirement already satisfied: pyparsing!=2.0.4,!=2.1.2,!=2.1.6,>=2.0.1 in /srv/conda/envs/notebook/lib/python3.6/site-packages (from matplotlib>=1.4.3->seaborn) (2.4.2)\n",
      "Requirement already satisfied: six>=1.5 in /srv/conda/envs/notebook/lib/python3.6/site-packages (from python-dateutil>=2.6.1->pandas>=0.15.2->seaborn) (1.12.0)\n",
      "Requirement already satisfied: setuptools in /srv/conda/envs/notebook/lib/python3.6/site-packages (from kiwisolver>=1.0.1->matplotlib>=1.4.3->seaborn) (41.0.1)\n",
      "Installing collected packages: seaborn\n",
      "Successfully installed seaborn-0.9.0\n",
      "Note: you may need to restart the kernel to use updated packages.\n"
     ]
    }
   ],
   "source": [
    "pip install seaborn"
   ]
  },
  {
   "cell_type": "code",
   "execution_count": 5,
   "metadata": {},
   "outputs": [],
   "source": [
    "import seaborn as sns\n",
    "sns.set()"
   ]
  },
  {
   "cell_type": "code",
   "execution_count": 6,
   "metadata": {},
   "outputs": [
    {
     "data": {
      "text/plain": [
       "(8000, 32)"
      ]
     },
     "execution_count": 6,
     "metadata": {},
     "output_type": "execute_result"
    }
   ],
   "source": [
    "#importing file and performing basic data anaylysis\n",
    "df = pd.read_csv('fraud.csv')\n",
    "df.shape"
   ]
  },
  {
   "cell_type": "code",
   "execution_count": 7,
   "metadata": {},
   "outputs": [
    {
     "data": {
      "text/html": [
       "<div>\n",
       "<style scoped>\n",
       "    .dataframe tbody tr th:only-of-type {\n",
       "        vertical-align: middle;\n",
       "    }\n",
       "\n",
       "    .dataframe tbody tr th {\n",
       "        vertical-align: top;\n",
       "    }\n",
       "\n",
       "    .dataframe thead th {\n",
       "        text-align: right;\n",
       "    }\n",
       "</style>\n",
       "<table border=\"1\" class=\"dataframe\">\n",
       "  <thead>\n",
       "    <tr style=\"text-align: right;\">\n",
       "      <th></th>\n",
       "      <th>Unnamed: 0</th>\n",
       "      <th>Time</th>\n",
       "      <th>V1</th>\n",
       "      <th>V2</th>\n",
       "      <th>V3</th>\n",
       "      <th>V4</th>\n",
       "      <th>V5</th>\n",
       "      <th>V6</th>\n",
       "      <th>V7</th>\n",
       "      <th>V8</th>\n",
       "      <th>...</th>\n",
       "      <th>V21</th>\n",
       "      <th>V22</th>\n",
       "      <th>V23</th>\n",
       "      <th>V24</th>\n",
       "      <th>V25</th>\n",
       "      <th>V26</th>\n",
       "      <th>V27</th>\n",
       "      <th>V28</th>\n",
       "      <th>Amount</th>\n",
       "      <th>Class</th>\n",
       "    </tr>\n",
       "  </thead>\n",
       "  <tbody>\n",
       "    <tr>\n",
       "      <th>0</th>\n",
       "      <td>0</td>\n",
       "      <td>64</td>\n",
       "      <td>1.212511</td>\n",
       "      <td>-0.099054</td>\n",
       "      <td>-1.192094</td>\n",
       "      <td>0.286324</td>\n",
       "      <td>2.160516</td>\n",
       "      <td>3.616314</td>\n",
       "      <td>-0.404207</td>\n",
       "      <td>0.842331</td>\n",
       "      <td>...</td>\n",
       "      <td>-0.167496</td>\n",
       "      <td>-0.494695</td>\n",
       "      <td>-0.149785</td>\n",
       "      <td>1.011227</td>\n",
       "      <td>0.883548</td>\n",
       "      <td>-0.329434</td>\n",
       "      <td>0.020370</td>\n",
       "      <td>0.017037</td>\n",
       "      <td>34.70</td>\n",
       "      <td>0</td>\n",
       "    </tr>\n",
       "    <tr>\n",
       "      <th>1</th>\n",
       "      <td>1</td>\n",
       "      <td>64</td>\n",
       "      <td>-0.658305</td>\n",
       "      <td>0.406791</td>\n",
       "      <td>2.037461</td>\n",
       "      <td>-0.291298</td>\n",
       "      <td>0.147910</td>\n",
       "      <td>-0.350857</td>\n",
       "      <td>0.945373</td>\n",
       "      <td>-0.172560</td>\n",
       "      <td>...</td>\n",
       "      <td>-0.156096</td>\n",
       "      <td>-0.238805</td>\n",
       "      <td>0.089877</td>\n",
       "      <td>0.421195</td>\n",
       "      <td>-0.352487</td>\n",
       "      <td>0.074783</td>\n",
       "      <td>-0.094192</td>\n",
       "      <td>-0.092493</td>\n",
       "      <td>54.99</td>\n",
       "      <td>0</td>\n",
       "    </tr>\n",
       "    <tr>\n",
       "      <th>2</th>\n",
       "      <td>2</td>\n",
       "      <td>124</td>\n",
       "      <td>1.105253</td>\n",
       "      <td>0.541842</td>\n",
       "      <td>0.839421</td>\n",
       "      <td>2.570933</td>\n",
       "      <td>-0.279517</td>\n",
       "      <td>-0.423062</td>\n",
       "      <td>0.088019</td>\n",
       "      <td>0.011622</td>\n",
       "      <td>...</td>\n",
       "      <td>-0.137434</td>\n",
       "      <td>-0.460991</td>\n",
       "      <td>0.189397</td>\n",
       "      <td>0.556329</td>\n",
       "      <td>0.185786</td>\n",
       "      <td>-0.189030</td>\n",
       "      <td>0.000208</td>\n",
       "      <td>0.026167</td>\n",
       "      <td>6.24</td>\n",
       "      <td>0</td>\n",
       "    </tr>\n",
       "    <tr>\n",
       "      <th>3</th>\n",
       "      <td>3</td>\n",
       "      <td>128</td>\n",
       "      <td>1.239495</td>\n",
       "      <td>-0.182609</td>\n",
       "      <td>0.155058</td>\n",
       "      <td>-0.928892</td>\n",
       "      <td>-0.746227</td>\n",
       "      <td>-1.235608</td>\n",
       "      <td>-0.061695</td>\n",
       "      <td>-0.125223</td>\n",
       "      <td>...</td>\n",
       "      <td>0.146077</td>\n",
       "      <td>0.481119</td>\n",
       "      <td>-0.140019</td>\n",
       "      <td>0.538261</td>\n",
       "      <td>0.710720</td>\n",
       "      <td>-0.621382</td>\n",
       "      <td>0.036867</td>\n",
       "      <td>0.010963</td>\n",
       "      <td>8.80</td>\n",
       "      <td>0</td>\n",
       "    </tr>\n",
       "    <tr>\n",
       "      <th>4</th>\n",
       "      <td>4</td>\n",
       "      <td>132</td>\n",
       "      <td>-1.571359</td>\n",
       "      <td>1.687508</td>\n",
       "      <td>0.734670</td>\n",
       "      <td>1.293350</td>\n",
       "      <td>-0.217532</td>\n",
       "      <td>-0.002677</td>\n",
       "      <td>0.147364</td>\n",
       "      <td>0.515362</td>\n",
       "      <td>...</td>\n",
       "      <td>0.048549</td>\n",
       "      <td>0.377256</td>\n",
       "      <td>-0.030436</td>\n",
       "      <td>0.117608</td>\n",
       "      <td>-0.060520</td>\n",
       "      <td>-0.296550</td>\n",
       "      <td>-0.481570</td>\n",
       "      <td>-0.167897</td>\n",
       "      <td>10.00</td>\n",
       "      <td>0</td>\n",
       "    </tr>\n",
       "  </tbody>\n",
       "</table>\n",
       "<p>5 rows × 32 columns</p>\n",
       "</div>"
      ],
      "text/plain": [
       "   Unnamed: 0  Time        V1        V2        V3        V4        V5  \\\n",
       "0           0    64  1.212511 -0.099054 -1.192094  0.286324  2.160516   \n",
       "1           1    64 -0.658305  0.406791  2.037461 -0.291298  0.147910   \n",
       "2           2   124  1.105253  0.541842  0.839421  2.570933 -0.279517   \n",
       "3           3   128  1.239495 -0.182609  0.155058 -0.928892 -0.746227   \n",
       "4           4   132 -1.571359  1.687508  0.734670  1.293350 -0.217532   \n",
       "\n",
       "         V6        V7        V8  ...       V21       V22       V23       V24  \\\n",
       "0  3.616314 -0.404207  0.842331  ... -0.167496 -0.494695 -0.149785  1.011227   \n",
       "1 -0.350857  0.945373 -0.172560  ... -0.156096 -0.238805  0.089877  0.421195   \n",
       "2 -0.423062  0.088019  0.011622  ... -0.137434 -0.460991  0.189397  0.556329   \n",
       "3 -1.235608 -0.061695 -0.125223  ...  0.146077  0.481119 -0.140019  0.538261   \n",
       "4 -0.002677  0.147364  0.515362  ...  0.048549  0.377256 -0.030436  0.117608   \n",
       "\n",
       "        V25       V26       V27       V28  Amount  Class  \n",
       "0  0.883548 -0.329434  0.020370  0.017037   34.70      0  \n",
       "1 -0.352487  0.074783 -0.094192 -0.092493   54.99      0  \n",
       "2  0.185786 -0.189030  0.000208  0.026167    6.24      0  \n",
       "3  0.710720 -0.621382  0.036867  0.010963    8.80      0  \n",
       "4 -0.060520 -0.296550 -0.481570 -0.167897   10.00      0  \n",
       "\n",
       "[5 rows x 32 columns]"
      ]
     },
     "execution_count": 7,
     "metadata": {},
     "output_type": "execute_result"
    }
   ],
   "source": [
    "df.head()"
   ]
  },
  {
   "cell_type": "code",
   "execution_count": 8,
   "metadata": {},
   "outputs": [
    {
     "name": "stdout",
     "output_type": "stream",
     "text": [
      "<class 'pandas.core.frame.DataFrame'>\n",
      "RangeIndex: 8000 entries, 0 to 7999\n",
      "Data columns (total 32 columns):\n",
      "Unnamed: 0    8000 non-null int64\n",
      "Time          8000 non-null int64\n",
      "V1            8000 non-null float64\n",
      "V2            8000 non-null float64\n",
      "V3            8000 non-null float64\n",
      "V4            8000 non-null float64\n",
      "V5            8000 non-null float64\n",
      "V6            8000 non-null float64\n",
      "V7            8000 non-null float64\n",
      "V8            8000 non-null float64\n",
      "V9            8000 non-null float64\n",
      "V10           8000 non-null float64\n",
      "V11           8000 non-null float64\n",
      "V12           8000 non-null float64\n",
      "V13           8000 non-null float64\n",
      "V14           8000 non-null float64\n",
      "V15           8000 non-null float64\n",
      "V16           8000 non-null float64\n",
      "V17           8000 non-null float64\n",
      "V18           8000 non-null float64\n",
      "V19           8000 non-null float64\n",
      "V20           8000 non-null float64\n",
      "V21           8000 non-null float64\n",
      "V22           8000 non-null float64\n",
      "V23           8000 non-null float64\n",
      "V24           8000 non-null float64\n",
      "V25           8000 non-null float64\n",
      "V26           8000 non-null float64\n",
      "V27           8000 non-null float64\n",
      "V28           8000 non-null float64\n",
      "Amount        8000 non-null float64\n",
      "Class         8000 non-null int64\n",
      "dtypes: float64(29), int64(3)\n",
      "memory usage: 2.0 MB\n"
     ]
    }
   ],
   "source": [
    "df.info()"
   ]
  },
  {
   "cell_type": "code",
   "execution_count": 9,
   "metadata": {},
   "outputs": [
    {
     "data": {
      "text/html": [
       "<div>\n",
       "<style scoped>\n",
       "    .dataframe tbody tr th:only-of-type {\n",
       "        vertical-align: middle;\n",
       "    }\n",
       "\n",
       "    .dataframe tbody tr th {\n",
       "        vertical-align: top;\n",
       "    }\n",
       "\n",
       "    .dataframe thead th {\n",
       "        text-align: right;\n",
       "    }\n",
       "</style>\n",
       "<table border=\"1\" class=\"dataframe\">\n",
       "  <thead>\n",
       "    <tr style=\"text-align: right;\">\n",
       "      <th></th>\n",
       "      <th>Unnamed: 0</th>\n",
       "      <th>Time</th>\n",
       "      <th>V1</th>\n",
       "      <th>V2</th>\n",
       "      <th>V3</th>\n",
       "      <th>V4</th>\n",
       "      <th>V5</th>\n",
       "      <th>V6</th>\n",
       "      <th>V7</th>\n",
       "      <th>V8</th>\n",
       "      <th>...</th>\n",
       "      <th>V21</th>\n",
       "      <th>V22</th>\n",
       "      <th>V23</th>\n",
       "      <th>V24</th>\n",
       "      <th>V25</th>\n",
       "      <th>V26</th>\n",
       "      <th>V27</th>\n",
       "      <th>V28</th>\n",
       "      <th>Amount</th>\n",
       "      <th>Class</th>\n",
       "    </tr>\n",
       "  </thead>\n",
       "  <tbody>\n",
       "    <tr>\n",
       "      <th>count</th>\n",
       "      <td>8000.00000</td>\n",
       "      <td>8000.000000</td>\n",
       "      <td>8000.000000</td>\n",
       "      <td>8000.000000</td>\n",
       "      <td>8000.000000</td>\n",
       "      <td>8000.000000</td>\n",
       "      <td>8000.000000</td>\n",
       "      <td>8000.000000</td>\n",
       "      <td>8000.000000</td>\n",
       "      <td>8000.000000</td>\n",
       "      <td>...</td>\n",
       "      <td>8000.000000</td>\n",
       "      <td>8000.000000</td>\n",
       "      <td>8000.000000</td>\n",
       "      <td>8000.000000</td>\n",
       "      <td>8000.000000</td>\n",
       "      <td>8000.000000</td>\n",
       "      <td>8000.000000</td>\n",
       "      <td>8000.000000</td>\n",
       "      <td>8000.000000</td>\n",
       "      <td>8000.000000</td>\n",
       "    </tr>\n",
       "    <tr>\n",
       "      <th>mean</th>\n",
       "      <td>3999.50000</td>\n",
       "      <td>95357.290375</td>\n",
       "      <td>0.016628</td>\n",
       "      <td>-0.005726</td>\n",
       "      <td>-0.010398</td>\n",
       "      <td>-0.028731</td>\n",
       "      <td>-0.022065</td>\n",
       "      <td>0.000739</td>\n",
       "      <td>0.016121</td>\n",
       "      <td>-0.004941</td>\n",
       "      <td>...</td>\n",
       "      <td>-0.003501</td>\n",
       "      <td>0.028278</td>\n",
       "      <td>0.006422</td>\n",
       "      <td>-0.000855</td>\n",
       "      <td>-0.000284</td>\n",
       "      <td>0.000740</td>\n",
       "      <td>-0.006161</td>\n",
       "      <td>0.005893</td>\n",
       "      <td>89.669246</td>\n",
       "      <td>0.002125</td>\n",
       "    </tr>\n",
       "    <tr>\n",
       "      <th>std</th>\n",
       "      <td>2309.54541</td>\n",
       "      <td>46956.240862</td>\n",
       "      <td>1.899212</td>\n",
       "      <td>1.545809</td>\n",
       "      <td>1.477050</td>\n",
       "      <td>1.426184</td>\n",
       "      <td>1.401964</td>\n",
       "      <td>1.332905</td>\n",
       "      <td>1.305012</td>\n",
       "      <td>1.174568</td>\n",
       "      <td>...</td>\n",
       "      <td>0.678019</td>\n",
       "      <td>0.714746</td>\n",
       "      <td>0.553929</td>\n",
       "      <td>0.606846</td>\n",
       "      <td>0.513374</td>\n",
       "      <td>0.485101</td>\n",
       "      <td>0.394584</td>\n",
       "      <td>0.348770</td>\n",
       "      <td>260.188804</td>\n",
       "      <td>0.046052</td>\n",
       "    </tr>\n",
       "    <tr>\n",
       "      <th>min</th>\n",
       "      <td>0.00000</td>\n",
       "      <td>64.000000</td>\n",
       "      <td>-29.973363</td>\n",
       "      <td>-29.198899</td>\n",
       "      <td>-19.947726</td>\n",
       "      <td>-5.416315</td>\n",
       "      <td>-40.427726</td>\n",
       "      <td>-7.810116</td>\n",
       "      <td>-21.234463</td>\n",
       "      <td>-26.069936</td>\n",
       "      <td>...</td>\n",
       "      <td>-13.950186</td>\n",
       "      <td>-4.910197</td>\n",
       "      <td>-12.667179</td>\n",
       "      <td>-2.814898</td>\n",
       "      <td>-3.223535</td>\n",
       "      <td>-1.511259</td>\n",
       "      <td>-5.809357</td>\n",
       "      <td>-3.693525</td>\n",
       "      <td>0.000000</td>\n",
       "      <td>0.000000</td>\n",
       "    </tr>\n",
       "    <tr>\n",
       "      <th>25%</th>\n",
       "      <td>1999.75000</td>\n",
       "      <td>55189.750000</td>\n",
       "      <td>-0.915243</td>\n",
       "      <td>-0.610001</td>\n",
       "      <td>-0.893566</td>\n",
       "      <td>-0.903137</td>\n",
       "      <td>-0.714806</td>\n",
       "      <td>-0.790640</td>\n",
       "      <td>-0.560447</td>\n",
       "      <td>-0.215935</td>\n",
       "      <td>...</td>\n",
       "      <td>-0.221765</td>\n",
       "      <td>-0.519427</td>\n",
       "      <td>-0.159989</td>\n",
       "      <td>-0.345288</td>\n",
       "      <td>-0.311490</td>\n",
       "      <td>-0.327823</td>\n",
       "      <td>-0.071358</td>\n",
       "      <td>-0.052957</td>\n",
       "      <td>5.990000</td>\n",
       "      <td>0.000000</td>\n",
       "    </tr>\n",
       "    <tr>\n",
       "      <th>50%</th>\n",
       "      <td>3999.50000</td>\n",
       "      <td>85758.000000</td>\n",
       "      <td>0.025737</td>\n",
       "      <td>0.040064</td>\n",
       "      <td>0.165369</td>\n",
       "      <td>-0.035525</td>\n",
       "      <td>-0.076317</td>\n",
       "      <td>-0.282476</td>\n",
       "      <td>0.043119</td>\n",
       "      <td>0.019278</td>\n",
       "      <td>...</td>\n",
       "      <td>-0.026597</td>\n",
       "      <td>0.031274</td>\n",
       "      <td>-0.008716</td>\n",
       "      <td>0.038126</td>\n",
       "      <td>0.023790</td>\n",
       "      <td>-0.061720</td>\n",
       "      <td>0.000514</td>\n",
       "      <td>0.011239</td>\n",
       "      <td>22.855000</td>\n",
       "      <td>0.000000</td>\n",
       "    </tr>\n",
       "    <tr>\n",
       "      <th>75%</th>\n",
       "      <td>5999.25000</td>\n",
       "      <td>139042.750000</td>\n",
       "      <td>1.321858</td>\n",
       "      <td>0.784179</td>\n",
       "      <td>0.991859</td>\n",
       "      <td>0.752604</td>\n",
       "      <td>0.601602</td>\n",
       "      <td>0.403259</td>\n",
       "      <td>0.581711</td>\n",
       "      <td>0.331131</td>\n",
       "      <td>...</td>\n",
       "      <td>0.191495</td>\n",
       "      <td>0.549468</td>\n",
       "      <td>0.144751</td>\n",
       "      <td>0.440633</td>\n",
       "      <td>0.344371</td>\n",
       "      <td>0.246298</td>\n",
       "      <td>0.086333</td>\n",
       "      <td>0.076835</td>\n",
       "      <td>78.432500</td>\n",
       "      <td>0.000000</td>\n",
       "    </tr>\n",
       "    <tr>\n",
       "      <th>max</th>\n",
       "      <td>7999.00000</td>\n",
       "      <td>172766.000000</td>\n",
       "      <td>2.373022</td>\n",
       "      <td>11.447082</td>\n",
       "      <td>3.985446</td>\n",
       "      <td>9.074932</td>\n",
       "      <td>13.815072</td>\n",
       "      <td>23.917837</td>\n",
       "      <td>44.054461</td>\n",
       "      <td>9.561121</td>\n",
       "      <td>...</td>\n",
       "      <td>14.507345</td>\n",
       "      <td>4.222704</td>\n",
       "      <td>19.228169</td>\n",
       "      <td>3.577753</td>\n",
       "      <td>2.520869</td>\n",
       "      <td>2.693658</td>\n",
       "      <td>5.352193</td>\n",
       "      <td>15.649134</td>\n",
       "      <td>10199.440000</td>\n",
       "      <td>1.000000</td>\n",
       "    </tr>\n",
       "  </tbody>\n",
       "</table>\n",
       "<p>8 rows × 32 columns</p>\n",
       "</div>"
      ],
      "text/plain": [
       "       Unnamed: 0           Time           V1           V2           V3  \\\n",
       "count  8000.00000    8000.000000  8000.000000  8000.000000  8000.000000   \n",
       "mean   3999.50000   95357.290375     0.016628    -0.005726    -0.010398   \n",
       "std    2309.54541   46956.240862     1.899212     1.545809     1.477050   \n",
       "min       0.00000      64.000000   -29.973363   -29.198899   -19.947726   \n",
       "25%    1999.75000   55189.750000    -0.915243    -0.610001    -0.893566   \n",
       "50%    3999.50000   85758.000000     0.025737     0.040064     0.165369   \n",
       "75%    5999.25000  139042.750000     1.321858     0.784179     0.991859   \n",
       "max    7999.00000  172766.000000     2.373022    11.447082     3.985446   \n",
       "\n",
       "                V4           V5           V6           V7           V8  ...  \\\n",
       "count  8000.000000  8000.000000  8000.000000  8000.000000  8000.000000  ...   \n",
       "mean     -0.028731    -0.022065     0.000739     0.016121    -0.004941  ...   \n",
       "std       1.426184     1.401964     1.332905     1.305012     1.174568  ...   \n",
       "min      -5.416315   -40.427726    -7.810116   -21.234463   -26.069936  ...   \n",
       "25%      -0.903137    -0.714806    -0.790640    -0.560447    -0.215935  ...   \n",
       "50%      -0.035525    -0.076317    -0.282476     0.043119     0.019278  ...   \n",
       "75%       0.752604     0.601602     0.403259     0.581711     0.331131  ...   \n",
       "max       9.074932    13.815072    23.917837    44.054461     9.561121  ...   \n",
       "\n",
       "               V21          V22          V23          V24          V25  \\\n",
       "count  8000.000000  8000.000000  8000.000000  8000.000000  8000.000000   \n",
       "mean     -0.003501     0.028278     0.006422    -0.000855    -0.000284   \n",
       "std       0.678019     0.714746     0.553929     0.606846     0.513374   \n",
       "min     -13.950186    -4.910197   -12.667179    -2.814898    -3.223535   \n",
       "25%      -0.221765    -0.519427    -0.159989    -0.345288    -0.311490   \n",
       "50%      -0.026597     0.031274    -0.008716     0.038126     0.023790   \n",
       "75%       0.191495     0.549468     0.144751     0.440633     0.344371   \n",
       "max      14.507345     4.222704    19.228169     3.577753     2.520869   \n",
       "\n",
       "               V26          V27          V28        Amount        Class  \n",
       "count  8000.000000  8000.000000  8000.000000   8000.000000  8000.000000  \n",
       "mean      0.000740    -0.006161     0.005893     89.669246     0.002125  \n",
       "std       0.485101     0.394584     0.348770    260.188804     0.046052  \n",
       "min      -1.511259    -5.809357    -3.693525      0.000000     0.000000  \n",
       "25%      -0.327823    -0.071358    -0.052957      5.990000     0.000000  \n",
       "50%      -0.061720     0.000514     0.011239     22.855000     0.000000  \n",
       "75%       0.246298     0.086333     0.076835     78.432500     0.000000  \n",
       "max       2.693658     5.352193    15.649134  10199.440000     1.000000  \n",
       "\n",
       "[8 rows x 32 columns]"
      ]
     },
     "execution_count": 9,
     "metadata": {},
     "output_type": "execute_result"
    }
   ],
   "source": [
    "df.describe()"
   ]
  },
  {
   "cell_type": "code",
   "execution_count": 10,
   "metadata": {},
   "outputs": [],
   "source": [
    "#importing sklearn for Ml and prediction\n",
    "from sklearn.model_selection import train_test_split\n",
    "from sklearn.preprocessing import StandardScaler"
   ]
  },
  {
   "cell_type": "code",
   "execution_count": 11,
   "metadata": {},
   "outputs": [],
   "source": [
    "#re-sampling dataset for accuracy\n",
    "df['normAmount']=StandardScaler().fit_transform(df['Amount'].values.reshape(-1,1))\n",
    "data_in=df.drop(['Time','Amount'],axis=1)\n",
    "data_out=df['Class']"
   ]
  },
  {
   "cell_type": "code",
   "execution_count": 12,
   "metadata": {},
   "outputs": [],
   "source": [
    "#splitting testing and training data\n",
    "x_train, x_test, y_train, y_test = train_test_split(data_in, data_out, train_size=0.70, test_size=0.30, random_state=1)"
   ]
  },
  {
   "cell_type": "code",
   "execution_count": 13,
   "metadata": {},
   "outputs": [
    {
     "name": "stdout",
     "output_type": "stream",
     "text": [
      "5600\n",
      "2400\n",
      "5600\n",
      "2400\n"
     ]
    }
   ],
   "source": [
    "#checking the splitted lenghts\n",
    "print(len(x_train))\n",
    "print(len(x_test))\n",
    "print(len(y_train))\n",
    "print(len(y_test))"
   ]
  },
  {
   "cell_type": "code",
   "execution_count": 14,
   "metadata": {},
   "outputs": [],
   "source": [
    "#importing neccesary model for applying on the data\n",
    "from sklearn.linear_model import LogisticRegression\n",
    "from sklearn.metrics import classification_report, confusion_matrix"
   ]
  },
  {
   "cell_type": "code",
   "execution_count": 15,
   "metadata": {},
   "outputs": [],
   "source": [
    "# Defining the model\n",
    "model = LogisticRegression()"
   ]
  },
  {
   "cell_type": "code",
   "execution_count": 16,
   "metadata": {},
   "outputs": [
    {
     "name": "stderr",
     "output_type": "stream",
     "text": [
      "/srv/conda/envs/notebook/lib/python3.6/site-packages/sklearn/linear_model/logistic.py:432: FutureWarning: Default solver will be changed to 'lbfgs' in 0.22. Specify a solver to silence this warning.\n",
      "  FutureWarning)\n"
     ]
    }
   ],
   "source": [
    "# Fit and predict\n",
    "model.fit(x_train, y_train)\n",
    "pred = model.predict(x_test)"
   ]
  },
  {
   "cell_type": "code",
   "execution_count": 17,
   "metadata": {},
   "outputs": [
    {
     "name": "stdout",
     "output_type": "stream",
     "text": [
      "              precision    recall  f1-score   support\n",
      "\n",
      "           0       1.00      1.00      1.00      2396\n",
      "           1       1.00      0.50      0.67         4\n",
      "\n",
      "    accuracy                           1.00      2400\n",
      "   macro avg       1.00      0.75      0.83      2400\n",
      "weighted avg       1.00      1.00      1.00      2400\n",
      "\n",
      "[[2396    0]\n",
      " [   2    2]]\n"
     ]
    }
   ],
   "source": [
    "#checking result\n",
    "print(classification_report(y_test, pred))\n",
    "print(confusion_matrix(y_test, pred))"
   ]
  },
  {
   "cell_type": "code",
   "execution_count": 18,
   "metadata": {},
   "outputs": [
    {
     "name": "stdout",
     "output_type": "stream",
     "text": [
      "0.67\n",
      "0.5\n"
     ]
    }
   ],
   "source": [
    "#checking complete predection sensitivity\n",
    "from sklearn.metrics import f1_score, recall_score\n",
    "f1_score = round(f1_score(y_test, pred), 2)\n",
    "recall_score = round(recall_score(y_test, pred), 2)\n",
    "print(f1_score)\n",
    "print(recall_score)"
   ]
  },
  {
   "cell_type": "code",
   "execution_count": 19,
   "metadata": {},
   "outputs": [],
   "source": [
    "#using support vector to yeild better efficiency\n",
    "from sklearn import svm\n",
    "from sklearn.svm import SVC"
   ]
  },
  {
   "cell_type": "code",
   "execution_count": 20,
   "metadata": {},
   "outputs": [],
   "source": [
    "#Using the rbf kernel to build the initail model.\n",
    "model= svm.SVC(C= 1, kernel= 'linear', random_state= 0)"
   ]
  },
  {
   "cell_type": "code",
   "execution_count": 22,
   "metadata": {},
   "outputs": [],
   "source": [
    "# Fit and predict\n",
    "model.fit(x_train, y_train)\n",
    "pred = model.predict(x_test)"
   ]
  },
  {
   "cell_type": "code",
   "execution_count": 23,
   "metadata": {},
   "outputs": [
    {
     "name": "stdout",
     "output_type": "stream",
     "text": [
      "              precision    recall  f1-score   support\n",
      "\n",
      "           0       1.00      1.00      1.00      2396\n",
      "           1       1.00      0.75      0.86         4\n",
      "\n",
      "    accuracy                           1.00      2400\n",
      "   macro avg       1.00      0.88      0.93      2400\n",
      "weighted avg       1.00      1.00      1.00      2400\n",
      "\n",
      "[[2396    0]\n",
      " [   1    3]]\n"
     ]
    }
   ],
   "source": [
    "#checking result\n",
    "print(classification_report(y_test, pred))\n",
    "print(confusion_matrix(y_test, pred))"
   ]
  },
  {
   "cell_type": "code",
   "execution_count": 25,
   "metadata": {},
   "outputs": [
    {
     "name": "stdout",
     "output_type": "stream",
     "text": [
      "0.86\n",
      "0.75\n"
     ]
    }
   ],
   "source": [
    "#checking complete predection sensitivity\n",
    "from sklearn.metrics import f1_score, recall_score\n",
    "f1_score = round(f1_score(y_test, pred), 2)\n",
    "recall_score = round(recall_score(y_test, pred), 2)\n",
    "print(f1_score)\n",
    "print(recall_score)"
   ]
  },
  {
   "cell_type": "code",
   "execution_count": 28,
   "metadata": {},
   "outputs": [
    {
     "data": {
      "image/png": "[encoded data removed]",
      "text/plain": [
       "<Figure size 432x288 with 2 Axes>"
      ]
     },
     "metadata": {},
     "output_type": "display_data"
    }
   ],
   "source": [
    "#applying visualization on SVM model\n",
    "c_name = ['not_fraud', 'fraud']\n",
    "cs_matrix = confusion_matrix(y_test, pred)\n",
    "df_sv = pd.DataFrame(cs_matrix, index=c_name, columns=c_name)\n",
    "\n",
    "\n",
    "sns.heatmap(df_sv, annot=True)\n",
    "plt.title(\"SVM\")\n",
    "plt.ylabel(\"True Class\")\n",
    "plt.xlabel(\"Predicted Class\")\n",
    "plt.show()"
   ]
  },
  {
   "cell_type": "code",
   "execution_count": 40,
   "metadata": {},
   "outputs": [],
   "source": [
    "#applying another model to check if we can yeild any better performance\n",
    "\n",
    "from sklearn.ensemble import RandomForestClassifier\n",
    "rf_model = RandomForestClassifier(n_estimators = 100, n_jobs =4)\n",
    "from sklearn.metrics import f1_score, recall_score\n"
   ]
  },
  {
   "cell_type": "code",
   "execution_count": 41,
   "metadata": {},
   "outputs": [],
   "source": [
    "# Fit new model and check new predictions\n",
    "rf_model.fit(x_train, y_train)\n",
    "pred_n = rf_model.predict(x_test)"
   ]
  },
  {
   "cell_type": "code",
   "execution_count": 42,
   "metadata": {},
   "outputs": [
    {
     "name": "stdout",
     "output_type": "stream",
     "text": [
      "              precision    recall  f1-score   support\n",
      "\n",
      "           0       1.00      1.00      1.00      2396\n",
      "           1       1.00      1.00      1.00         4\n",
      "\n",
      "    accuracy                           1.00      2400\n",
      "   macro avg       1.00      1.00      1.00      2400\n",
      "weighted avg       1.00      1.00      1.00      2400\n",
      "\n",
      "[[2396    0]\n",
      " [   0    4]]\n",
      "1.0\n",
      "1.0\n"
     ]
    }
   ],
   "source": [
    "#checking new results\n",
    "print(classification_report(y_test, pred_n))\n",
    "print(confusion_matrix(y_test, pred_n))\n",
    "f1_score = round(f1_score(y_test, pred_n), 2)\n",
    "recall_score = round(recall_score(y_test, pred_n), 2)\n",
    "print(f1_score)\n",
    "print(recall_score)"
   ]
  },
  {
   "cell_type": "code",
   "execution_count": 43,
   "metadata": {},
   "outputs": [
    {
     "data": {
      "image/png": "[encoded data removed]",
      "text/plain": [
       "<Figure size 432x288 with 2 Axes>"
      ]
     },
     "metadata": {},
     "output_type": "display_data"
    }
   ],
   "source": [
    "#applying visualization on new model\n",
    "cnew_matrix = confusion_matrix(y_test, pred_n)\n",
    "df_v = pd.DataFrame(cnew_matrix, index=c_name, columns=c_name)\n",
    "\n",
    "\n",
    "sns.heatmap(df_v, annot=True, cmap=\"Blues\")\n",
    "plt.title(\"Random Forest\")\n",
    "plt.ylabel(\"True Class\")\n",
    "plt.xlabel(\"Predicted Class\")\n",
    "plt.show()"
   ]
  },
  {
   "cell_type": "code",
   "execution_count": null,
   "metadata": {},
   "outputs": [],
   "source": []
  }
 ],
 "metadata": {
  "kernelspec": {
   "display_name": "Python 3",
   "language": "python",
   "name": "python3"
  },
  "language_info": {
   "codemirror_mode": {
    "name": "ipython",
    "version": 3
   },
   "file_extension": ".py",
   "mimetype": "text/x-python",
   "name": "python",
   "nbconvert_exporter": "python",
   "pygments_lexer": "ipython3",
   "version": "3.6.7"
  }
 },
 "nbformat": 4,
 "nbformat_minor": 2
}
